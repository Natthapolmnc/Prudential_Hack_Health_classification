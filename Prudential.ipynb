{
  "nbformat": 4,
  "nbformat_minor": 0,
  "metadata": {
    "colab": {
      "name": "Prudential.ipynb",
      "provenance": [],
      "collapsed_sections": []
    },
    "kernelspec": {
      "name": "python3",
      "display_name": "Python 3"
    },
    "language_info": {
      "name": "python"
    }
  },
  "cells": [
    {
      "cell_type": "code",
      "metadata": {
        "id": "egjwpIP-7ift"
      },
      "source": [
        "import pandas as pd\n",
        "import tensorflow as tf\n",
        "from tensorflow.keras.utils import to_categorical"
      ],
      "execution_count": null,
      "outputs": []
    },
    {
      "cell_type": "code",
      "metadata": {
        "id": "uUgJhRZKbVHC"
      },
      "source": [
        "df=pd.read_csv(\"/content/cardiovascular.csv\",sep=\";\")"
      ],
      "execution_count": null,
      "outputs": []
    },
    {
      "cell_type": "code",
      "metadata": {
        "id": "6YDPFhqLSe1Q"
      },
      "source": [
        "df=df.rename({\"obesity\":\"bmi\"},axis=1)"
      ],
      "execution_count": null,
      "outputs": []
    },
    {
      "cell_type": "code",
      "metadata": {
        "colab": {
          "base_uri": "https://localhost:8080/"
        },
        "id": "VeL4NOx0KVnt",
        "outputId": "695548ec-a9db-4fb9-c13c-6199c02c5259"
      },
      "source": [
        "df.info()"
      ],
      "execution_count": null,
      "outputs": [
        {
          "output_type": "stream",
          "text": [
            "<class 'pandas.core.frame.DataFrame'>\n",
            "RangeIndex: 462 entries, 0 to 461\n",
            "Data columns (total 11 columns):\n",
            " #   Column     Non-Null Count  Dtype  \n",
            "---  ------     --------------  -----  \n",
            " 0   ind        462 non-null    int64  \n",
            " 1   sbp        462 non-null    int64  \n",
            " 2   tobacco    462 non-null    float64\n",
            " 3   ldl        462 non-null    float64\n",
            " 4   adiposity  462 non-null    float64\n",
            " 5   famhist    462 non-null    object \n",
            " 6   typea      462 non-null    int64  \n",
            " 7   bmi        462 non-null    float64\n",
            " 8   alcohol    462 non-null    float64\n",
            " 9   age        462 non-null    int64  \n",
            " 10  chd        462 non-null    int64  \n",
            "dtypes: float64(5), int64(5), object(1)\n",
            "memory usage: 39.8+ KB\n"
          ],
          "name": "stdout"
        }
      ]
    },
    {
      "cell_type": "code",
      "metadata": {
        "id": "bWc_3WEKKK3o"
      },
      "source": [
        "df=df.drop(columns=[\"ind\",\"tobacco\",\"adiposity\",\"ldl\",\"typea\",\"alcohol\",])"
      ],
      "execution_count": null,
      "outputs": []
    },
    {
      "cell_type": "code",
      "metadata": {
        "id": "HkLJWjxnTXtI"
      },
      "source": [
        "fam_dict={i:k for k,i in enumerate(df[\"famhist\"].unique())}\n",
        "df[\"famhist\"]=df[\"famhist\"].apply(lambda x: fam_dict[x])"
      ],
      "execution_count": null,
      "outputs": []
    },
    {
      "cell_type": "code",
      "metadata": {
        "id": "zlKyYSs1p1if"
      },
      "source": [
        "mean_sbp=df[\"sbp\"].mean()\n",
        "std_sbp=df[\"sbp\"].std()\n",
        "mean_bmi=df[\"bmi\"].mean()\n",
        "std_bmi=df[\"bmi\"].std()\n",
        "mean_age=df[\"age\"].mean()\n",
        "std_age=df[\"age\"].std()"
      ],
      "execution_count": null,
      "outputs": []
    },
    {
      "cell_type": "code",
      "metadata": {
        "id": "ZHUN0Fq1Wiij"
      },
      "source": [
        "df[\"sbp\"]=df[\"sbp\"].apply(lambda x: (x-df[\"sbp\"].mean())/df[\"sbp\"].std())\n",
        "df[\"bmi\"]=df[\"bmi\"].apply(lambda x: (x-df[\"bmi\"].mean())/df[\"bmi\"].std())\n",
        "df[\"age\"]=df[\"age\"].apply(lambda x: (x-df[\"age\"].mean())/df[\"age\"].std())"
      ],
      "execution_count": null,
      "outputs": []
    },
    {
      "cell_type": "code",
      "metadata": {
        "colab": {
          "base_uri": "https://localhost:8080/",
          "height": 424
        },
        "id": "u9Aocc1mxrYl",
        "outputId": "eb11593f-5867-4a81-e3cc-5fc965613541"
      },
      "source": [
        "df"
      ],
      "execution_count": null,
      "outputs": [
        {
          "output_type": "execute_result",
          "data": {
            "text/html": [
              "<div>\n",
              "<style scoped>\n",
              "    .dataframe tbody tr th:only-of-type {\n",
              "        vertical-align: middle;\n",
              "    }\n",
              "\n",
              "    .dataframe tbody tr th {\n",
              "        vertical-align: top;\n",
              "    }\n",
              "\n",
              "    .dataframe thead th {\n",
              "        text-align: right;\n",
              "    }\n",
              "</style>\n",
              "<table border=\"1\" class=\"dataframe\">\n",
              "  <thead>\n",
              "    <tr style=\"text-align: right;\">\n",
              "      <th></th>\n",
              "      <th>sbp</th>\n",
              "      <th>famhist</th>\n",
              "      <th>bmi</th>\n",
              "      <th>age</th>\n",
              "      <th>chd</th>\n",
              "    </tr>\n",
              "  </thead>\n",
              "  <tbody>\n",
              "    <tr>\n",
              "      <th>0</th>\n",
              "      <td>1.057417</td>\n",
              "      <td>0</td>\n",
              "      <td>-0.176594</td>\n",
              "      <td>0.628654</td>\n",
              "      <td>1</td>\n",
              "    </tr>\n",
              "    <tr>\n",
              "      <th>1</th>\n",
              "      <td>0.276789</td>\n",
              "      <td>1</td>\n",
              "      <td>0.670646</td>\n",
              "      <td>1.381617</td>\n",
              "      <td>1</td>\n",
              "    </tr>\n",
              "    <tr>\n",
              "      <th>2</th>\n",
              "      <td>-0.991731</td>\n",
              "      <td>0</td>\n",
              "      <td>0.734723</td>\n",
              "      <td>0.217947</td>\n",
              "      <td>0</td>\n",
              "    </tr>\n",
              "    <tr>\n",
              "      <th>3</th>\n",
              "      <td>1.545310</td>\n",
              "      <td>0</td>\n",
              "      <td>1.411091</td>\n",
              "      <td>1.039361</td>\n",
              "      <td>1</td>\n",
              "    </tr>\n",
              "    <tr>\n",
              "      <th>4</th>\n",
              "      <td>-0.211103</td>\n",
              "      <td>0</td>\n",
              "      <td>-0.012842</td>\n",
              "      <td>0.423301</td>\n",
              "      <td>1</td>\n",
              "    </tr>\n",
              "    <tr>\n",
              "      <th>...</th>\n",
              "      <td>...</td>\n",
              "      <td>...</td>\n",
              "      <td>...</td>\n",
              "      <td>...</td>\n",
              "      <td>...</td>\n",
              "    </tr>\n",
              "    <tr>\n",
              "      <th>457</th>\n",
              "      <td>3.692037</td>\n",
              "      <td>1</td>\n",
              "      <td>0.570971</td>\n",
              "      <td>1.039361</td>\n",
              "      <td>0</td>\n",
              "    </tr>\n",
              "    <tr>\n",
              "      <th>458</th>\n",
              "      <td>2.130781</td>\n",
              "      <td>1</td>\n",
              "      <td>0.608942</td>\n",
              "      <td>0.628654</td>\n",
              "      <td>1</td>\n",
              "    </tr>\n",
              "    <tr>\n",
              "      <th>459</th>\n",
              "      <td>-1.479624</td>\n",
              "      <td>1</td>\n",
              "      <td>-1.413043</td>\n",
              "      <td>0.834008</td>\n",
              "      <td>0</td>\n",
              "    </tr>\n",
              "    <tr>\n",
              "      <th>460</th>\n",
              "      <td>-0.991731</td>\n",
              "      <td>1</td>\n",
              "      <td>0.309916</td>\n",
              "      <td>-0.192760</td>\n",
              "      <td>0</td>\n",
              "    </tr>\n",
              "    <tr>\n",
              "      <th>461</th>\n",
              "      <td>-0.308682</td>\n",
              "      <td>0</td>\n",
              "      <td>-2.692210</td>\n",
              "      <td>0.217947</td>\n",
              "      <td>1</td>\n",
              "    </tr>\n",
              "  </tbody>\n",
              "</table>\n",
              "<p>462 rows × 5 columns</p>\n",
              "</div>"
            ],
            "text/plain": [
              "          sbp  famhist       bmi       age  chd\n",
              "0    1.057417        0 -0.176594  0.628654    1\n",
              "1    0.276789        1  0.670646  1.381617    1\n",
              "2   -0.991731        0  0.734723  0.217947    0\n",
              "3    1.545310        0  1.411091  1.039361    1\n",
              "4   -0.211103        0 -0.012842  0.423301    1\n",
              "..        ...      ...       ...       ...  ...\n",
              "457  3.692037        1  0.570971  1.039361    0\n",
              "458  2.130781        1  0.608942  0.628654    1\n",
              "459 -1.479624        1 -1.413043  0.834008    0\n",
              "460 -0.991731        1  0.309916 -0.192760    0\n",
              "461 -0.308682        0 -2.692210  0.217947    1\n",
              "\n",
              "[462 rows x 5 columns]"
            ]
          },
          "metadata": {
            "tags": []
          },
          "execution_count": 470
        }
      ]
    },
    {
      "cell_type": "code",
      "metadata": {
        "id": "GiHeGtyGKSB5"
      },
      "source": [
        "msk = np.random.rand(len(df)) < 0.8\n",
        "trn=df[msk]\n",
        "tst_val=df[~msk]\n",
        "msk=np.random.rand(len(tst_val))<0.5\n",
        "tst=tst_val[msk]\n",
        "val=tst_val[~msk]"
      ],
      "execution_count": null,
      "outputs": []
    },
    {
      "cell_type": "code",
      "metadata": {
        "id": "h-JV9tYMLV-2"
      },
      "source": [
        "x_trn=trn.drop(columns=[\"famhist\",\"chd\"]).values\n",
        "fm_x_trn=to_categorical(trn[\"famhist\"].values)\n",
        "y_trn=trn[\"chd\"].values"
      ],
      "execution_count": null,
      "outputs": []
    },
    {
      "cell_type": "code",
      "metadata": {
        "colab": {
          "base_uri": "https://localhost:8080/"
        },
        "id": "tzUupVvjZzsN",
        "outputId": "2376e543-0dc4-41af-82ec-f08208a5a659"
      },
      "source": [
        "x_trn"
      ],
      "execution_count": null,
      "outputs": [
        {
          "output_type": "execute_result",
          "data": {
            "text/plain": [
              "array([[ 1.05741729, -0.17659445,  0.62865426],\n",
              "       [ 0.27678925,  0.67064592,  1.38161701],\n",
              "       [ 1.54530982,  1.41109128,  1.03936121],\n",
              "       ...,\n",
              "       [-1.47962385, -1.41304329,  0.83400774],\n",
              "       [-0.99173133,  0.30991612, -0.19275965],\n",
              "       [-0.30868179, -2.69221012,  0.2179473 ]])"
            ]
          },
          "metadata": {
            "tags": []
          },
          "execution_count": 352
        }
      ]
    },
    {
      "cell_type": "code",
      "metadata": {
        "id": "2y6GYt_HXKNi"
      },
      "source": [
        "x_tst=tst.drop(columns=[\"famhist\",\"chd\"]).values\n",
        "fm_x_tst=to_categorical(tst[\"famhist\"].values)\n",
        "y_tst=tst[\"chd\"].values"
      ],
      "execution_count": null,
      "outputs": []
    },
    {
      "cell_type": "code",
      "metadata": {
        "id": "kZuyKw10XN0y"
      },
      "source": [
        "x_val=val.drop(columns=[\"famhist\",\"chd\"]).values\n",
        "fm_x_val=to_categorical(val[\"famhist\"].values)\n",
        "y_val=val[\"chd\"].values"
      ],
      "execution_count": null,
      "outputs": []
    },
    {
      "cell_type": "code",
      "metadata": {
        "id": "8sVn2jTGYI9M"
      },
      "source": [
        "input_=tf.keras.layers.Input(shape=(x_trn.shape[1],))\n",
        "input_fm=tf.keras.layers.Input(shape=(2,))\n",
        "concat_=tf.keras.layers.Concatenate()([input_,input_fm])\n",
        "dens_=tf.keras.layers.Dense(16,activation=\"relu\")(input_)\n",
        "dens_2=tf.keras.layers.Dense(16,activation=\"relu\")(dens_)\n",
        "\n",
        "res=tf.keras.layers.Dense(1,activation=\"sigmoid\")(dens_2)"
      ],
      "execution_count": null,
      "outputs": []
    },
    {
      "cell_type": "code",
      "metadata": {
        "id": "kUU6x7hJZcsp"
      },
      "source": [
        "model=tf.keras.Model(inputs=[input_,input_fm],outputs=res)"
      ],
      "execution_count": null,
      "outputs": []
    },
    {
      "cell_type": "code",
      "metadata": {
        "id": "--ZpVHjAazOT"
      },
      "source": [
        "model.compile(optimizer=\"adam\",loss=tf.keras.losses.BinaryCrossentropy(),metrics=[\"accuracy\"])"
      ],
      "execution_count": null,
      "outputs": []
    },
    {
      "cell_type": "code",
      "metadata": {
        "colab": {
          "base_uri": "https://localhost:8080/"
        },
        "id": "gcglkDMjb_cN",
        "outputId": "d18df766-ed4d-4de4-e755-6c9f4201ff32"
      },
      "source": [
        "model.summary()"
      ],
      "execution_count": null,
      "outputs": [
        {
          "output_type": "stream",
          "text": [
            "Model: \"model_38\"\n",
            "__________________________________________________________________________________________________\n",
            "Layer (type)                    Output Shape         Param #     Connected to                     \n",
            "==================================================================================================\n",
            "input_79 (InputLayer)           [(None, 3)]          0                                            \n",
            "__________________________________________________________________________________________________\n",
            "dense_139 (Dense)               (None, 16)           64          input_79[0][0]                   \n",
            "__________________________________________________________________________________________________\n",
            "dense_140 (Dense)               (None, 16)           272         dense_139[0][0]                  \n",
            "__________________________________________________________________________________________________\n",
            "input_80 (InputLayer)           [(None, 2)]          0                                            \n",
            "__________________________________________________________________________________________________\n",
            "dense_141 (Dense)               (None, 1)            17          dense_140[0][0]                  \n",
            "==================================================================================================\n",
            "Total params: 353\n",
            "Trainable params: 353\n",
            "Non-trainable params: 0\n",
            "__________________________________________________________________________________________________\n"
          ],
          "name": "stdout"
        }
      ]
    },
    {
      "cell_type": "code",
      "metadata": {
        "id": "SK4OIezdexB0"
      },
      "source": [
        "callbacks = [\n",
        "    tf.keras.callbacks.EarlyStopping(\n",
        "        # Stop training when `val_loss` is no longer improving\n",
        "        monitor=\"val_loss\",\n",
        "        # \"no longer improving\" being further defined as \"for at least 10 epochs\"\n",
        "        restore_best_weights=True,\n",
        "        patience=60,\n",
        "        verbose=1,\n",
        "    )\n",
        "]"
      ],
      "execution_count": null,
      "outputs": []
    },
    {
      "cell_type": "code",
      "metadata": {
        "colab": {
          "base_uri": "https://localhost:8080/"
        },
        "id": "_44ZTrZBbbKm",
        "outputId": "6ada64cb-7b12-43b6-c6fa-614227c11d05"
      },
      "source": [
        "model.fit(x=[x_trn,fm_x_trn],y=y_trn,batch_size=256,epochs=500,validation_data=([x_val,fm_x_val],y_val),callbacks=callbacks)"
      ],
      "execution_count": null,
      "outputs": [
        {
          "output_type": "stream",
          "text": [
            "Epoch 1/500\n",
            "2/2 [==============================] - 1s 149ms/step - loss: 0.6697 - accuracy: 0.6055 - val_loss: 0.6742 - val_accuracy: 0.5769\n",
            "Epoch 2/500\n",
            "2/2 [==============================] - 0s 22ms/step - loss: 0.6646 - accuracy: 0.6301 - val_loss: 0.6687 - val_accuracy: 0.6154\n",
            "Epoch 3/500\n",
            "2/2 [==============================] - 0s 20ms/step - loss: 0.6599 - accuracy: 0.6466 - val_loss: 0.6638 - val_accuracy: 0.6346\n",
            "Epoch 4/500\n",
            "2/2 [==============================] - 0s 20ms/step - loss: 0.6555 - accuracy: 0.6603 - val_loss: 0.6594 - val_accuracy: 0.6346\n",
            "Epoch 5/500\n",
            "2/2 [==============================] - 0s 22ms/step - loss: 0.6513 - accuracy: 0.6685 - val_loss: 0.6554 - val_accuracy: 0.6538\n",
            "Epoch 6/500\n",
            "2/2 [==============================] - 0s 20ms/step - loss: 0.6473 - accuracy: 0.6521 - val_loss: 0.6516 - val_accuracy: 0.6346\n",
            "Epoch 7/500\n",
            "2/2 [==============================] - 0s 24ms/step - loss: 0.6437 - accuracy: 0.6658 - val_loss: 0.6480 - val_accuracy: 0.6346\n",
            "Epoch 8/500\n",
            "2/2 [==============================] - 0s 19ms/step - loss: 0.6404 - accuracy: 0.6630 - val_loss: 0.6448 - val_accuracy: 0.6538\n",
            "Epoch 9/500\n",
            "2/2 [==============================] - 0s 20ms/step - loss: 0.6369 - accuracy: 0.6685 - val_loss: 0.6418 - val_accuracy: 0.6731\n",
            "Epoch 10/500\n",
            "2/2 [==============================] - 0s 20ms/step - loss: 0.6341 - accuracy: 0.6685 - val_loss: 0.6389 - val_accuracy: 0.6731\n",
            "Epoch 11/500\n",
            "2/2 [==============================] - 0s 19ms/step - loss: 0.6312 - accuracy: 0.6658 - val_loss: 0.6362 - val_accuracy: 0.6923\n",
            "Epoch 12/500\n",
            "2/2 [==============================] - 0s 18ms/step - loss: 0.6283 - accuracy: 0.6658 - val_loss: 0.6338 - val_accuracy: 0.6923\n",
            "Epoch 13/500\n",
            "2/2 [==============================] - 0s 23ms/step - loss: 0.6259 - accuracy: 0.6630 - val_loss: 0.6316 - val_accuracy: 0.6923\n",
            "Epoch 14/500\n",
            "2/2 [==============================] - 0s 20ms/step - loss: 0.6233 - accuracy: 0.6658 - val_loss: 0.6295 - val_accuracy: 0.6923\n",
            "Epoch 15/500\n",
            "2/2 [==============================] - 0s 21ms/step - loss: 0.6209 - accuracy: 0.6658 - val_loss: 0.6275 - val_accuracy: 0.6731\n",
            "Epoch 16/500\n",
            "2/2 [==============================] - 0s 20ms/step - loss: 0.6185 - accuracy: 0.6658 - val_loss: 0.6256 - val_accuracy: 0.6731\n",
            "Epoch 17/500\n",
            "2/2 [==============================] - 0s 25ms/step - loss: 0.6163 - accuracy: 0.6658 - val_loss: 0.6238 - val_accuracy: 0.6731\n",
            "Epoch 18/500\n",
            "2/2 [==============================] - 0s 22ms/step - loss: 0.6140 - accuracy: 0.6712 - val_loss: 0.6219 - val_accuracy: 0.6731\n",
            "Epoch 19/500\n",
            "2/2 [==============================] - 0s 23ms/step - loss: 0.6120 - accuracy: 0.6740 - val_loss: 0.6201 - val_accuracy: 0.6731\n",
            "Epoch 20/500\n",
            "2/2 [==============================] - 0s 20ms/step - loss: 0.6098 - accuracy: 0.6740 - val_loss: 0.6184 - val_accuracy: 0.6731\n",
            "Epoch 21/500\n",
            "2/2 [==============================] - 0s 21ms/step - loss: 0.6079 - accuracy: 0.6740 - val_loss: 0.6167 - val_accuracy: 0.6538\n",
            "Epoch 22/500\n",
            "2/2 [==============================] - 0s 21ms/step - loss: 0.6057 - accuracy: 0.6685 - val_loss: 0.6148 - val_accuracy: 0.6538\n",
            "Epoch 23/500\n",
            "2/2 [==============================] - 0s 25ms/step - loss: 0.6039 - accuracy: 0.6740 - val_loss: 0.6132 - val_accuracy: 0.6538\n",
            "Epoch 24/500\n",
            "2/2 [==============================] - 0s 23ms/step - loss: 0.6020 - accuracy: 0.6767 - val_loss: 0.6117 - val_accuracy: 0.6538\n",
            "Epoch 25/500\n",
            "2/2 [==============================] - 0s 25ms/step - loss: 0.6002 - accuracy: 0.6795 - val_loss: 0.6103 - val_accuracy: 0.6538\n",
            "Epoch 26/500\n",
            "2/2 [==============================] - 0s 20ms/step - loss: 0.5984 - accuracy: 0.6849 - val_loss: 0.6089 - val_accuracy: 0.6538\n",
            "Epoch 27/500\n",
            "2/2 [==============================] - 0s 22ms/step - loss: 0.5967 - accuracy: 0.6932 - val_loss: 0.6074 - val_accuracy: 0.6346\n",
            "Epoch 28/500\n",
            "2/2 [==============================] - 0s 20ms/step - loss: 0.5951 - accuracy: 0.6959 - val_loss: 0.6059 - val_accuracy: 0.6346\n",
            "Epoch 29/500\n",
            "2/2 [==============================] - 0s 19ms/step - loss: 0.5933 - accuracy: 0.6959 - val_loss: 0.6043 - val_accuracy: 0.5962\n",
            "Epoch 30/500\n",
            "2/2 [==============================] - 0s 38ms/step - loss: 0.5916 - accuracy: 0.6932 - val_loss: 0.6028 - val_accuracy: 0.5962\n",
            "Epoch 31/500\n",
            "2/2 [==============================] - 0s 23ms/step - loss: 0.5903 - accuracy: 0.6877 - val_loss: 0.6012 - val_accuracy: 0.5962\n",
            "Epoch 32/500\n",
            "2/2 [==============================] - 0s 25ms/step - loss: 0.5885 - accuracy: 0.6959 - val_loss: 0.5997 - val_accuracy: 0.5962\n",
            "Epoch 33/500\n",
            "2/2 [==============================] - 0s 20ms/step - loss: 0.5873 - accuracy: 0.6959 - val_loss: 0.5983 - val_accuracy: 0.5769\n",
            "Epoch 34/500\n",
            "2/2 [==============================] - 0s 31ms/step - loss: 0.5858 - accuracy: 0.6959 - val_loss: 0.5971 - val_accuracy: 0.5769\n",
            "Epoch 35/500\n",
            "2/2 [==============================] - 0s 19ms/step - loss: 0.5845 - accuracy: 0.6986 - val_loss: 0.5957 - val_accuracy: 0.5769\n",
            "Epoch 36/500\n",
            "2/2 [==============================] - 0s 18ms/step - loss: 0.5832 - accuracy: 0.7014 - val_loss: 0.5945 - val_accuracy: 0.5769\n",
            "Epoch 37/500\n",
            "2/2 [==============================] - 0s 21ms/step - loss: 0.5821 - accuracy: 0.7068 - val_loss: 0.5934 - val_accuracy: 0.5769\n",
            "Epoch 38/500\n",
            "2/2 [==============================] - 0s 19ms/step - loss: 0.5810 - accuracy: 0.7041 - val_loss: 0.5924 - val_accuracy: 0.5962\n",
            "Epoch 39/500\n",
            "2/2 [==============================] - 0s 20ms/step - loss: 0.5799 - accuracy: 0.7014 - val_loss: 0.5912 - val_accuracy: 0.5962\n",
            "Epoch 40/500\n",
            "2/2 [==============================] - 0s 24ms/step - loss: 0.5790 - accuracy: 0.7014 - val_loss: 0.5898 - val_accuracy: 0.5962\n",
            "Epoch 41/500\n",
            "2/2 [==============================] - 0s 20ms/step - loss: 0.5782 - accuracy: 0.7068 - val_loss: 0.5887 - val_accuracy: 0.5962\n",
            "Epoch 42/500\n",
            "2/2 [==============================] - 0s 21ms/step - loss: 0.5773 - accuracy: 0.7096 - val_loss: 0.5877 - val_accuracy: 0.5962\n",
            "Epoch 43/500\n",
            "2/2 [==============================] - 0s 20ms/step - loss: 0.5765 - accuracy: 0.7068 - val_loss: 0.5868 - val_accuracy: 0.5962\n",
            "Epoch 44/500\n",
            "2/2 [==============================] - 0s 19ms/step - loss: 0.5757 - accuracy: 0.7068 - val_loss: 0.5860 - val_accuracy: 0.5962\n",
            "Epoch 45/500\n",
            "2/2 [==============================] - 0s 28ms/step - loss: 0.5751 - accuracy: 0.7041 - val_loss: 0.5853 - val_accuracy: 0.5962\n",
            "Epoch 46/500\n",
            "2/2 [==============================] - 0s 25ms/step - loss: 0.5744 - accuracy: 0.7014 - val_loss: 0.5846 - val_accuracy: 0.5769\n",
            "Epoch 47/500\n",
            "2/2 [==============================] - 0s 22ms/step - loss: 0.5738 - accuracy: 0.7014 - val_loss: 0.5838 - val_accuracy: 0.5769\n",
            "Epoch 48/500\n",
            "2/2 [==============================] - 0s 21ms/step - loss: 0.5732 - accuracy: 0.7014 - val_loss: 0.5828 - val_accuracy: 0.5769\n",
            "Epoch 49/500\n",
            "2/2 [==============================] - 0s 20ms/step - loss: 0.5726 - accuracy: 0.6986 - val_loss: 0.5821 - val_accuracy: 0.5769\n",
            "Epoch 50/500\n",
            "2/2 [==============================] - 0s 22ms/step - loss: 0.5720 - accuracy: 0.6986 - val_loss: 0.5815 - val_accuracy: 0.5769\n",
            "Epoch 51/500\n",
            "2/2 [==============================] - 0s 21ms/step - loss: 0.5715 - accuracy: 0.6959 - val_loss: 0.5808 - val_accuracy: 0.5769\n",
            "Epoch 52/500\n",
            "2/2 [==============================] - 0s 22ms/step - loss: 0.5710 - accuracy: 0.6959 - val_loss: 0.5804 - val_accuracy: 0.5769\n",
            "Epoch 53/500\n",
            "2/2 [==============================] - 0s 21ms/step - loss: 0.5706 - accuracy: 0.6959 - val_loss: 0.5802 - val_accuracy: 0.5962\n",
            "Epoch 54/500\n",
            "2/2 [==============================] - 0s 21ms/step - loss: 0.5700 - accuracy: 0.6959 - val_loss: 0.5798 - val_accuracy: 0.5962\n",
            "Epoch 55/500\n",
            "2/2 [==============================] - 0s 22ms/step - loss: 0.5696 - accuracy: 0.6986 - val_loss: 0.5791 - val_accuracy: 0.5962\n",
            "Epoch 56/500\n",
            "2/2 [==============================] - 0s 20ms/step - loss: 0.5691 - accuracy: 0.6959 - val_loss: 0.5784 - val_accuracy: 0.5962\n",
            "Epoch 57/500\n",
            "2/2 [==============================] - 0s 21ms/step - loss: 0.5687 - accuracy: 0.6959 - val_loss: 0.5779 - val_accuracy: 0.5962\n",
            "Epoch 58/500\n",
            "2/2 [==============================] - 0s 24ms/step - loss: 0.5683 - accuracy: 0.6959 - val_loss: 0.5774 - val_accuracy: 0.5962\n",
            "Epoch 59/500\n",
            "2/2 [==============================] - 0s 23ms/step - loss: 0.5679 - accuracy: 0.6986 - val_loss: 0.5767 - val_accuracy: 0.5962\n",
            "Epoch 60/500\n",
            "2/2 [==============================] - 0s 24ms/step - loss: 0.5675 - accuracy: 0.6959 - val_loss: 0.5760 - val_accuracy: 0.6346\n",
            "Epoch 61/500\n",
            "2/2 [==============================] - 0s 23ms/step - loss: 0.5671 - accuracy: 0.6932 - val_loss: 0.5753 - val_accuracy: 0.6346\n",
            "Epoch 62/500\n",
            "2/2 [==============================] - 0s 26ms/step - loss: 0.5668 - accuracy: 0.6932 - val_loss: 0.5747 - val_accuracy: 0.6346\n",
            "Epoch 63/500\n",
            "2/2 [==============================] - 0s 25ms/step - loss: 0.5663 - accuracy: 0.6932 - val_loss: 0.5744 - val_accuracy: 0.6346\n",
            "Epoch 64/500\n",
            "2/2 [==============================] - 0s 24ms/step - loss: 0.5660 - accuracy: 0.6932 - val_loss: 0.5742 - val_accuracy: 0.6346\n",
            "Epoch 65/500\n",
            "2/2 [==============================] - 0s 29ms/step - loss: 0.5656 - accuracy: 0.6959 - val_loss: 0.5740 - val_accuracy: 0.5962\n",
            "Epoch 66/500\n",
            "2/2 [==============================] - 0s 25ms/step - loss: 0.5653 - accuracy: 0.6959 - val_loss: 0.5739 - val_accuracy: 0.5962\n",
            "Epoch 67/500\n",
            "2/2 [==============================] - 0s 22ms/step - loss: 0.5649 - accuracy: 0.6959 - val_loss: 0.5735 - val_accuracy: 0.6154\n",
            "Epoch 68/500\n",
            "2/2 [==============================] - 0s 20ms/step - loss: 0.5646 - accuracy: 0.6932 - val_loss: 0.5732 - val_accuracy: 0.5962\n",
            "Epoch 69/500\n",
            "2/2 [==============================] - 0s 19ms/step - loss: 0.5642 - accuracy: 0.6932 - val_loss: 0.5730 - val_accuracy: 0.5962\n",
            "Epoch 70/500\n",
            "2/2 [==============================] - 0s 23ms/step - loss: 0.5639 - accuracy: 0.6932 - val_loss: 0.5723 - val_accuracy: 0.5962\n",
            "Epoch 71/500\n",
            "2/2 [==============================] - 0s 24ms/step - loss: 0.5636 - accuracy: 0.6932 - val_loss: 0.5716 - val_accuracy: 0.5962\n",
            "Epoch 72/500\n",
            "2/2 [==============================] - 0s 20ms/step - loss: 0.5632 - accuracy: 0.6959 - val_loss: 0.5712 - val_accuracy: 0.5962\n",
            "Epoch 73/500\n",
            "2/2 [==============================] - 0s 21ms/step - loss: 0.5629 - accuracy: 0.6959 - val_loss: 0.5708 - val_accuracy: 0.5962\n",
            "Epoch 74/500\n",
            "2/2 [==============================] - 0s 23ms/step - loss: 0.5626 - accuracy: 0.6959 - val_loss: 0.5703 - val_accuracy: 0.6154\n",
            "Epoch 75/500\n",
            "2/2 [==============================] - 0s 21ms/step - loss: 0.5623 - accuracy: 0.6986 - val_loss: 0.5695 - val_accuracy: 0.6154\n",
            "Epoch 76/500\n",
            "2/2 [==============================] - 0s 20ms/step - loss: 0.5620 - accuracy: 0.6986 - val_loss: 0.5685 - val_accuracy: 0.6346\n",
            "Epoch 77/500\n",
            "2/2 [==============================] - 0s 21ms/step - loss: 0.5618 - accuracy: 0.6986 - val_loss: 0.5675 - val_accuracy: 0.6346\n",
            "Epoch 78/500\n",
            "2/2 [==============================] - 0s 29ms/step - loss: 0.5615 - accuracy: 0.6986 - val_loss: 0.5666 - val_accuracy: 0.6346\n",
            "Epoch 79/500\n",
            "2/2 [==============================] - 0s 23ms/step - loss: 0.5612 - accuracy: 0.6959 - val_loss: 0.5658 - val_accuracy: 0.6346\n",
            "Epoch 80/500\n",
            "2/2 [==============================] - 0s 23ms/step - loss: 0.5609 - accuracy: 0.6959 - val_loss: 0.5651 - val_accuracy: 0.6346\n",
            "Epoch 81/500\n",
            "2/2 [==============================] - 0s 26ms/step - loss: 0.5607 - accuracy: 0.6959 - val_loss: 0.5647 - val_accuracy: 0.6346\n",
            "Epoch 82/500\n",
            "2/2 [==============================] - 0s 20ms/step - loss: 0.5604 - accuracy: 0.6959 - val_loss: 0.5644 - val_accuracy: 0.6346\n",
            "Epoch 83/500\n",
            "2/2 [==============================] - 0s 23ms/step - loss: 0.5601 - accuracy: 0.6959 - val_loss: 0.5641 - val_accuracy: 0.6346\n",
            "Epoch 84/500\n",
            "2/2 [==============================] - 0s 19ms/step - loss: 0.5598 - accuracy: 0.6959 - val_loss: 0.5642 - val_accuracy: 0.6346\n",
            "Epoch 85/500\n",
            "2/2 [==============================] - 0s 20ms/step - loss: 0.5595 - accuracy: 0.6959 - val_loss: 0.5644 - val_accuracy: 0.6346\n",
            "Epoch 86/500\n",
            "2/2 [==============================] - 0s 21ms/step - loss: 0.5592 - accuracy: 0.6959 - val_loss: 0.5648 - val_accuracy: 0.6346\n",
            "Epoch 87/500\n",
            "2/2 [==============================] - 0s 24ms/step - loss: 0.5590 - accuracy: 0.6986 - val_loss: 0.5651 - val_accuracy: 0.6346\n",
            "Epoch 88/500\n",
            "2/2 [==============================] - 0s 24ms/step - loss: 0.5587 - accuracy: 0.6986 - val_loss: 0.5653 - val_accuracy: 0.6346\n",
            "Epoch 89/500\n",
            "2/2 [==============================] - 0s 22ms/step - loss: 0.5585 - accuracy: 0.6986 - val_loss: 0.5655 - val_accuracy: 0.6154\n",
            "Epoch 90/500\n",
            "2/2 [==============================] - 0s 24ms/step - loss: 0.5582 - accuracy: 0.6986 - val_loss: 0.5656 - val_accuracy: 0.6154\n",
            "Epoch 91/500\n",
            "2/2 [==============================] - 0s 24ms/step - loss: 0.5580 - accuracy: 0.7014 - val_loss: 0.5659 - val_accuracy: 0.6154\n",
            "Epoch 92/500\n",
            "2/2 [==============================] - 0s 19ms/step - loss: 0.5578 - accuracy: 0.7014 - val_loss: 0.5663 - val_accuracy: 0.6154\n",
            "Epoch 93/500\n",
            "2/2 [==============================] - 0s 20ms/step - loss: 0.5576 - accuracy: 0.7014 - val_loss: 0.5666 - val_accuracy: 0.6154\n",
            "Epoch 94/500\n",
            "2/2 [==============================] - 0s 22ms/step - loss: 0.5574 - accuracy: 0.7014 - val_loss: 0.5667 - val_accuracy: 0.6154\n",
            "Epoch 95/500\n",
            "2/2 [==============================] - 0s 19ms/step - loss: 0.5572 - accuracy: 0.7014 - val_loss: 0.5665 - val_accuracy: 0.6154\n",
            "Epoch 96/500\n",
            "2/2 [==============================] - 0s 25ms/step - loss: 0.5569 - accuracy: 0.7014 - val_loss: 0.5665 - val_accuracy: 0.5962\n",
            "Epoch 97/500\n",
            "2/2 [==============================] - 0s 27ms/step - loss: 0.5568 - accuracy: 0.7014 - val_loss: 0.5665 - val_accuracy: 0.5962\n",
            "Epoch 98/500\n",
            "2/2 [==============================] - 0s 26ms/step - loss: 0.5566 - accuracy: 0.6986 - val_loss: 0.5664 - val_accuracy: 0.6154\n",
            "Epoch 99/500\n",
            "2/2 [==============================] - 0s 30ms/step - loss: 0.5563 - accuracy: 0.6986 - val_loss: 0.5657 - val_accuracy: 0.6154\n",
            "Epoch 100/500\n",
            "2/2 [==============================] - 0s 22ms/step - loss: 0.5561 - accuracy: 0.6986 - val_loss: 0.5649 - val_accuracy: 0.6154\n",
            "Epoch 101/500\n",
            "2/2 [==============================] - 0s 22ms/step - loss: 0.5559 - accuracy: 0.6959 - val_loss: 0.5641 - val_accuracy: 0.6346\n",
            "Epoch 102/500\n",
            "2/2 [==============================] - 0s 42ms/step - loss: 0.5557 - accuracy: 0.6959 - val_loss: 0.5632 - val_accuracy: 0.6346\n",
            "Epoch 103/500\n",
            "2/2 [==============================] - 0s 24ms/step - loss: 0.5555 - accuracy: 0.6959 - val_loss: 0.5622 - val_accuracy: 0.6346\n",
            "Epoch 104/500\n",
            "2/2 [==============================] - 0s 21ms/step - loss: 0.5555 - accuracy: 0.6986 - val_loss: 0.5612 - val_accuracy: 0.6346\n",
            "Epoch 105/500\n",
            "2/2 [==============================] - 0s 24ms/step - loss: 0.5552 - accuracy: 0.6986 - val_loss: 0.5608 - val_accuracy: 0.6538\n",
            "Epoch 106/500\n",
            "2/2 [==============================] - 0s 27ms/step - loss: 0.5550 - accuracy: 0.6986 - val_loss: 0.5605 - val_accuracy: 0.6538\n",
            "Epoch 107/500\n",
            "2/2 [==============================] - 0s 19ms/step - loss: 0.5548 - accuracy: 0.6959 - val_loss: 0.5603 - val_accuracy: 0.6538\n",
            "Epoch 108/500\n",
            "2/2 [==============================] - 0s 25ms/step - loss: 0.5546 - accuracy: 0.6932 - val_loss: 0.5601 - val_accuracy: 0.6538\n",
            "Epoch 109/500\n",
            "2/2 [==============================] - 0s 25ms/step - loss: 0.5543 - accuracy: 0.6986 - val_loss: 0.5605 - val_accuracy: 0.6538\n",
            "Epoch 110/500\n",
            "2/2 [==============================] - 0s 26ms/step - loss: 0.5541 - accuracy: 0.6959 - val_loss: 0.5608 - val_accuracy: 0.6538\n",
            "Epoch 111/500\n",
            "2/2 [==============================] - 0s 25ms/step - loss: 0.5539 - accuracy: 0.7014 - val_loss: 0.5608 - val_accuracy: 0.6538\n",
            "Epoch 112/500\n",
            "2/2 [==============================] - 0s 24ms/step - loss: 0.5538 - accuracy: 0.7014 - val_loss: 0.5609 - val_accuracy: 0.6346\n",
            "Epoch 113/500\n",
            "2/2 [==============================] - 0s 29ms/step - loss: 0.5536 - accuracy: 0.7014 - val_loss: 0.5610 - val_accuracy: 0.6346\n",
            "Epoch 114/500\n",
            "2/2 [==============================] - 0s 27ms/step - loss: 0.5534 - accuracy: 0.6986 - val_loss: 0.5609 - val_accuracy: 0.6346\n",
            "Epoch 115/500\n",
            "2/2 [==============================] - 0s 21ms/step - loss: 0.5533 - accuracy: 0.6986 - val_loss: 0.5608 - val_accuracy: 0.6346\n",
            "Epoch 116/500\n",
            "2/2 [==============================] - 0s 24ms/step - loss: 0.5531 - accuracy: 0.6986 - val_loss: 0.5608 - val_accuracy: 0.6346\n",
            "Epoch 117/500\n",
            "2/2 [==============================] - 0s 29ms/step - loss: 0.5529 - accuracy: 0.6986 - val_loss: 0.5608 - val_accuracy: 0.6346\n",
            "Epoch 118/500\n",
            "2/2 [==============================] - 0s 23ms/step - loss: 0.5528 - accuracy: 0.6986 - val_loss: 0.5608 - val_accuracy: 0.6346\n",
            "Epoch 119/500\n",
            "2/2 [==============================] - 0s 20ms/step - loss: 0.5526 - accuracy: 0.6986 - val_loss: 0.5608 - val_accuracy: 0.6538\n",
            "Epoch 120/500\n",
            "2/2 [==============================] - 0s 21ms/step - loss: 0.5525 - accuracy: 0.6986 - val_loss: 0.5607 - val_accuracy: 0.6538\n",
            "Epoch 121/500\n",
            "2/2 [==============================] - 0s 32ms/step - loss: 0.5523 - accuracy: 0.6986 - val_loss: 0.5606 - val_accuracy: 0.6538\n",
            "Epoch 122/500\n",
            "2/2 [==============================] - 0s 45ms/step - loss: 0.5521 - accuracy: 0.6986 - val_loss: 0.5608 - val_accuracy: 0.6346\n",
            "Epoch 123/500\n",
            "2/2 [==============================] - 0s 27ms/step - loss: 0.5519 - accuracy: 0.7014 - val_loss: 0.5608 - val_accuracy: 0.6346\n",
            "Epoch 124/500\n",
            "2/2 [==============================] - 0s 22ms/step - loss: 0.5517 - accuracy: 0.6986 - val_loss: 0.5608 - val_accuracy: 0.6346\n",
            "Epoch 125/500\n",
            "2/2 [==============================] - 0s 25ms/step - loss: 0.5516 - accuracy: 0.6986 - val_loss: 0.5607 - val_accuracy: 0.6346\n",
            "Epoch 126/500\n",
            "2/2 [==============================] - 0s 26ms/step - loss: 0.5514 - accuracy: 0.6986 - val_loss: 0.5608 - val_accuracy: 0.6346\n",
            "Epoch 127/500\n",
            "2/2 [==============================] - 0s 28ms/step - loss: 0.5512 - accuracy: 0.6986 - val_loss: 0.5611 - val_accuracy: 0.6346\n",
            "Epoch 128/500\n",
            "2/2 [==============================] - 0s 25ms/step - loss: 0.5511 - accuracy: 0.6959 - val_loss: 0.5611 - val_accuracy: 0.6346\n",
            "Epoch 129/500\n",
            "2/2 [==============================] - 0s 28ms/step - loss: 0.5509 - accuracy: 0.6932 - val_loss: 0.5609 - val_accuracy: 0.6346\n",
            "Epoch 130/500\n",
            "2/2 [==============================] - 0s 21ms/step - loss: 0.5507 - accuracy: 0.6932 - val_loss: 0.5605 - val_accuracy: 0.6538\n",
            "Epoch 131/500\n",
            "2/2 [==============================] - 0s 25ms/step - loss: 0.5506 - accuracy: 0.6932 - val_loss: 0.5603 - val_accuracy: 0.6538\n",
            "Epoch 132/500\n",
            "2/2 [==============================] - 0s 23ms/step - loss: 0.5504 - accuracy: 0.6932 - val_loss: 0.5605 - val_accuracy: 0.6538\n",
            "Epoch 133/500\n",
            "2/2 [==============================] - 0s 26ms/step - loss: 0.5503 - accuracy: 0.6932 - val_loss: 0.5602 - val_accuracy: 0.6731\n",
            "Epoch 134/500\n",
            "2/2 [==============================] - 0s 23ms/step - loss: 0.5501 - accuracy: 0.6959 - val_loss: 0.5599 - val_accuracy: 0.6731\n",
            "Epoch 135/500\n",
            "2/2 [==============================] - 0s 29ms/step - loss: 0.5499 - accuracy: 0.6959 - val_loss: 0.5595 - val_accuracy: 0.6731\n",
            "Epoch 136/500\n",
            "2/2 [==============================] - 0s 22ms/step - loss: 0.5498 - accuracy: 0.6904 - val_loss: 0.5589 - val_accuracy: 0.6731\n",
            "Epoch 137/500\n",
            "2/2 [==============================] - 0s 23ms/step - loss: 0.5496 - accuracy: 0.6904 - val_loss: 0.5584 - val_accuracy: 0.6538\n",
            "Epoch 138/500\n",
            "2/2 [==============================] - 0s 25ms/step - loss: 0.5495 - accuracy: 0.6932 - val_loss: 0.5579 - val_accuracy: 0.6538\n",
            "Epoch 139/500\n",
            "2/2 [==============================] - 0s 21ms/step - loss: 0.5492 - accuracy: 0.6932 - val_loss: 0.5576 - val_accuracy: 0.6538\n",
            "Epoch 140/500\n",
            "2/2 [==============================] - 0s 31ms/step - loss: 0.5492 - accuracy: 0.6986 - val_loss: 0.5576 - val_accuracy: 0.6346\n",
            "Epoch 141/500\n",
            "2/2 [==============================] - 0s 24ms/step - loss: 0.5489 - accuracy: 0.6986 - val_loss: 0.5579 - val_accuracy: 0.6346\n",
            "Epoch 142/500\n",
            "2/2 [==============================] - 0s 24ms/step - loss: 0.5488 - accuracy: 0.6986 - val_loss: 0.5584 - val_accuracy: 0.6346\n",
            "Epoch 143/500\n",
            "2/2 [==============================] - 0s 26ms/step - loss: 0.5486 - accuracy: 0.6986 - val_loss: 0.5587 - val_accuracy: 0.6346\n",
            "Epoch 144/500\n",
            "2/2 [==============================] - 0s 21ms/step - loss: 0.5484 - accuracy: 0.6986 - val_loss: 0.5587 - val_accuracy: 0.6346\n",
            "Epoch 145/500\n",
            "2/2 [==============================] - 0s 28ms/step - loss: 0.5483 - accuracy: 0.6986 - val_loss: 0.5589 - val_accuracy: 0.6346\n",
            "Epoch 146/500\n",
            "2/2 [==============================] - 0s 27ms/step - loss: 0.5481 - accuracy: 0.7014 - val_loss: 0.5592 - val_accuracy: 0.6346\n",
            "Epoch 147/500\n",
            "2/2 [==============================] - 0s 24ms/step - loss: 0.5480 - accuracy: 0.7014 - val_loss: 0.5597 - val_accuracy: 0.6346\n",
            "Epoch 148/500\n",
            "2/2 [==============================] - 0s 25ms/step - loss: 0.5479 - accuracy: 0.7014 - val_loss: 0.5602 - val_accuracy: 0.6154\n",
            "Epoch 149/500\n",
            "2/2 [==============================] - 0s 27ms/step - loss: 0.5476 - accuracy: 0.7014 - val_loss: 0.5610 - val_accuracy: 0.6154\n",
            "Epoch 150/500\n",
            "2/2 [==============================] - 0s 20ms/step - loss: 0.5475 - accuracy: 0.6986 - val_loss: 0.5618 - val_accuracy: 0.6346\n",
            "Epoch 151/500\n",
            "2/2 [==============================] - 0s 27ms/step - loss: 0.5474 - accuracy: 0.7014 - val_loss: 0.5624 - val_accuracy: 0.6346\n",
            "Epoch 152/500\n",
            "2/2 [==============================] - 0s 31ms/step - loss: 0.5473 - accuracy: 0.7014 - val_loss: 0.5628 - val_accuracy: 0.6346\n",
            "Epoch 153/500\n",
            "2/2 [==============================] - 0s 33ms/step - loss: 0.5473 - accuracy: 0.7014 - val_loss: 0.5625 - val_accuracy: 0.6346\n",
            "Epoch 154/500\n",
            "2/2 [==============================] - 0s 25ms/step - loss: 0.5471 - accuracy: 0.7014 - val_loss: 0.5617 - val_accuracy: 0.6346\n",
            "Epoch 155/500\n",
            "2/2 [==============================] - 0s 28ms/step - loss: 0.5469 - accuracy: 0.6986 - val_loss: 0.5610 - val_accuracy: 0.6538\n",
            "Epoch 156/500\n",
            "2/2 [==============================] - 0s 24ms/step - loss: 0.5467 - accuracy: 0.6986 - val_loss: 0.5606 - val_accuracy: 0.6538\n",
            "Epoch 157/500\n",
            "2/2 [==============================] - 0s 26ms/step - loss: 0.5466 - accuracy: 0.6932 - val_loss: 0.5604 - val_accuracy: 0.6538\n",
            "Epoch 158/500\n",
            "2/2 [==============================] - 0s 29ms/step - loss: 0.5464 - accuracy: 0.6932 - val_loss: 0.5606 - val_accuracy: 0.6538\n",
            "Epoch 159/500\n",
            "2/2 [==============================] - 0s 25ms/step - loss: 0.5463 - accuracy: 0.6932 - val_loss: 0.5610 - val_accuracy: 0.6538\n",
            "Epoch 160/500\n",
            "2/2 [==============================] - 0s 24ms/step - loss: 0.5462 - accuracy: 0.6959 - val_loss: 0.5615 - val_accuracy: 0.6346\n",
            "Epoch 161/500\n",
            "2/2 [==============================] - 0s 23ms/step - loss: 0.5462 - accuracy: 0.6959 - val_loss: 0.5614 - val_accuracy: 0.6346\n",
            "Epoch 162/500\n",
            "2/2 [==============================] - 0s 24ms/step - loss: 0.5460 - accuracy: 0.6959 - val_loss: 0.5610 - val_accuracy: 0.6538\n",
            "Epoch 163/500\n",
            "2/2 [==============================] - 0s 26ms/step - loss: 0.5458 - accuracy: 0.6986 - val_loss: 0.5603 - val_accuracy: 0.6538\n",
            "Epoch 164/500\n",
            "2/2 [==============================] - 0s 21ms/step - loss: 0.5456 - accuracy: 0.6959 - val_loss: 0.5597 - val_accuracy: 0.6538\n",
            "Epoch 165/500\n",
            "2/2 [==============================] - 0s 29ms/step - loss: 0.5455 - accuracy: 0.6932 - val_loss: 0.5590 - val_accuracy: 0.6538\n",
            "Epoch 166/500\n",
            "2/2 [==============================] - 0s 29ms/step - loss: 0.5453 - accuracy: 0.6904 - val_loss: 0.5584 - val_accuracy: 0.6346\n",
            "Epoch 167/500\n",
            "2/2 [==============================] - 0s 23ms/step - loss: 0.5452 - accuracy: 0.6904 - val_loss: 0.5580 - val_accuracy: 0.6346\n",
            "Epoch 168/500\n",
            "2/2 [==============================] - 0s 22ms/step - loss: 0.5450 - accuracy: 0.6904 - val_loss: 0.5577 - val_accuracy: 0.6346\n",
            "Epoch 169/500\n",
            "2/2 [==============================] - 0s 22ms/step - loss: 0.5450 - accuracy: 0.6904 - val_loss: 0.5572 - val_accuracy: 0.6346\n",
            "Epoch 170/500\n",
            "2/2 [==============================] - 0s 24ms/step - loss: 0.5448 - accuracy: 0.6932 - val_loss: 0.5565 - val_accuracy: 0.6154\n",
            "Epoch 171/500\n",
            "2/2 [==============================] - 0s 23ms/step - loss: 0.5447 - accuracy: 0.6986 - val_loss: 0.5560 - val_accuracy: 0.6154\n",
            "Epoch 172/500\n",
            "2/2 [==============================] - 0s 22ms/step - loss: 0.5445 - accuracy: 0.7014 - val_loss: 0.5556 - val_accuracy: 0.6154\n",
            "Epoch 173/500\n",
            "2/2 [==============================] - 0s 30ms/step - loss: 0.5444 - accuracy: 0.7014 - val_loss: 0.5556 - val_accuracy: 0.6154\n",
            "Epoch 174/500\n",
            "2/2 [==============================] - 0s 22ms/step - loss: 0.5443 - accuracy: 0.7041 - val_loss: 0.5559 - val_accuracy: 0.6154\n",
            "Epoch 175/500\n",
            "2/2 [==============================] - 0s 28ms/step - loss: 0.5442 - accuracy: 0.7041 - val_loss: 0.5561 - val_accuracy: 0.6154\n",
            "Epoch 176/500\n",
            "2/2 [==============================] - 0s 27ms/step - loss: 0.5440 - accuracy: 0.6986 - val_loss: 0.5568 - val_accuracy: 0.6346\n",
            "Epoch 177/500\n",
            "2/2 [==============================] - 0s 27ms/step - loss: 0.5439 - accuracy: 0.6959 - val_loss: 0.5573 - val_accuracy: 0.6346\n",
            "Epoch 178/500\n",
            "2/2 [==============================] - 0s 24ms/step - loss: 0.5439 - accuracy: 0.6932 - val_loss: 0.5576 - val_accuracy: 0.6346\n",
            "Epoch 179/500\n",
            "2/2 [==============================] - 0s 21ms/step - loss: 0.5438 - accuracy: 0.6932 - val_loss: 0.5575 - val_accuracy: 0.6538\n",
            "Epoch 180/500\n",
            "2/2 [==============================] - 0s 23ms/step - loss: 0.5437 - accuracy: 0.6932 - val_loss: 0.5572 - val_accuracy: 0.6346\n",
            "Epoch 181/500\n",
            "2/2 [==============================] - 0s 23ms/step - loss: 0.5435 - accuracy: 0.6959 - val_loss: 0.5570 - val_accuracy: 0.6538\n",
            "Epoch 182/500\n",
            "2/2 [==============================] - 0s 32ms/step - loss: 0.5435 - accuracy: 0.6959 - val_loss: 0.5568 - val_accuracy: 0.6538\n",
            "Epoch 183/500\n",
            "2/2 [==============================] - 0s 22ms/step - loss: 0.5434 - accuracy: 0.6959 - val_loss: 0.5564 - val_accuracy: 0.6538\n",
            "Epoch 184/500\n",
            "2/2 [==============================] - 0s 23ms/step - loss: 0.5433 - accuracy: 0.6959 - val_loss: 0.5560 - val_accuracy: 0.6346\n",
            "Epoch 185/500\n",
            "2/2 [==============================] - 0s 23ms/step - loss: 0.5433 - accuracy: 0.6959 - val_loss: 0.5555 - val_accuracy: 0.6346\n",
            "Epoch 186/500\n",
            "2/2 [==============================] - 0s 22ms/step - loss: 0.5431 - accuracy: 0.6986 - val_loss: 0.5556 - val_accuracy: 0.6346\n",
            "Epoch 187/500\n",
            "2/2 [==============================] - 0s 25ms/step - loss: 0.5430 - accuracy: 0.7014 - val_loss: 0.5555 - val_accuracy: 0.6346\n",
            "Epoch 188/500\n",
            "2/2 [==============================] - 0s 31ms/step - loss: 0.5429 - accuracy: 0.7041 - val_loss: 0.5556 - val_accuracy: 0.6346\n",
            "Epoch 189/500\n",
            "2/2 [==============================] - 0s 23ms/step - loss: 0.5428 - accuracy: 0.7041 - val_loss: 0.5560 - val_accuracy: 0.6538\n",
            "Epoch 190/500\n",
            "2/2 [==============================] - 0s 26ms/step - loss: 0.5427 - accuracy: 0.7068 - val_loss: 0.5562 - val_accuracy: 0.6538\n",
            "Epoch 191/500\n",
            "2/2 [==============================] - 0s 25ms/step - loss: 0.5426 - accuracy: 0.7068 - val_loss: 0.5562 - val_accuracy: 0.6538\n",
            "Epoch 192/500\n",
            "2/2 [==============================] - 0s 23ms/step - loss: 0.5425 - accuracy: 0.7041 - val_loss: 0.5561 - val_accuracy: 0.6346\n",
            "Epoch 193/500\n",
            "2/2 [==============================] - 0s 23ms/step - loss: 0.5425 - accuracy: 0.7014 - val_loss: 0.5559 - val_accuracy: 0.6154\n",
            "Epoch 194/500\n",
            "2/2 [==============================] - 0s 25ms/step - loss: 0.5424 - accuracy: 0.7014 - val_loss: 0.5562 - val_accuracy: 0.6154\n",
            "Epoch 195/500\n",
            "2/2 [==============================] - 0s 26ms/step - loss: 0.5423 - accuracy: 0.7014 - val_loss: 0.5569 - val_accuracy: 0.6154\n",
            "Epoch 196/500\n",
            "2/2 [==============================] - 0s 29ms/step - loss: 0.5423 - accuracy: 0.7014 - val_loss: 0.5572 - val_accuracy: 0.6154\n",
            "Epoch 197/500\n",
            "2/2 [==============================] - 0s 26ms/step - loss: 0.5421 - accuracy: 0.7014 - val_loss: 0.5571 - val_accuracy: 0.6154\n",
            "Epoch 198/500\n",
            "2/2 [==============================] - 0s 27ms/step - loss: 0.5421 - accuracy: 0.7014 - val_loss: 0.5571 - val_accuracy: 0.6154\n",
            "Epoch 199/500\n",
            "2/2 [==============================] - 0s 21ms/step - loss: 0.5420 - accuracy: 0.6986 - val_loss: 0.5573 - val_accuracy: 0.6154\n",
            "Epoch 200/500\n",
            "2/2 [==============================] - 0s 23ms/step - loss: 0.5418 - accuracy: 0.6959 - val_loss: 0.5580 - val_accuracy: 0.6154\n",
            "Epoch 201/500\n",
            "2/2 [==============================] - 0s 20ms/step - loss: 0.5418 - accuracy: 0.6959 - val_loss: 0.5591 - val_accuracy: 0.6346\n",
            "Epoch 202/500\n",
            "2/2 [==============================] - 0s 20ms/step - loss: 0.5417 - accuracy: 0.6959 - val_loss: 0.5599 - val_accuracy: 0.6346\n",
            "Epoch 203/500\n",
            "2/2 [==============================] - 0s 25ms/step - loss: 0.5416 - accuracy: 0.6959 - val_loss: 0.5607 - val_accuracy: 0.6538\n",
            "Epoch 204/500\n",
            "2/2 [==============================] - 0s 22ms/step - loss: 0.5416 - accuracy: 0.6932 - val_loss: 0.5612 - val_accuracy: 0.6154\n",
            "Epoch 205/500\n",
            "2/2 [==============================] - 0s 27ms/step - loss: 0.5415 - accuracy: 0.6959 - val_loss: 0.5611 - val_accuracy: 0.6154\n",
            "Epoch 206/500\n",
            "2/2 [==============================] - 0s 41ms/step - loss: 0.5414 - accuracy: 0.6986 - val_loss: 0.5609 - val_accuracy: 0.6154\n",
            "Epoch 207/500\n",
            "2/2 [==============================] - 0s 26ms/step - loss: 0.5414 - accuracy: 0.6986 - val_loss: 0.5603 - val_accuracy: 0.6154\n",
            "Epoch 208/500\n",
            "2/2 [==============================] - 0s 23ms/step - loss: 0.5413 - accuracy: 0.6986 - val_loss: 0.5598 - val_accuracy: 0.6154\n",
            "Epoch 209/500\n",
            "2/2 [==============================] - 0s 24ms/step - loss: 0.5412 - accuracy: 0.6986 - val_loss: 0.5589 - val_accuracy: 0.6154\n",
            "Epoch 210/500\n",
            "2/2 [==============================] - 0s 23ms/step - loss: 0.5411 - accuracy: 0.6932 - val_loss: 0.5582 - val_accuracy: 0.6346\n",
            "Epoch 211/500\n",
            "2/2 [==============================] - 0s 23ms/step - loss: 0.5411 - accuracy: 0.6932 - val_loss: 0.5579 - val_accuracy: 0.6346\n",
            "Epoch 212/500\n",
            "2/2 [==============================] - 0s 20ms/step - loss: 0.5410 - accuracy: 0.6932 - val_loss: 0.5577 - val_accuracy: 0.6346\n",
            "Epoch 213/500\n",
            "2/2 [==============================] - 0s 28ms/step - loss: 0.5409 - accuracy: 0.6932 - val_loss: 0.5571 - val_accuracy: 0.6154\n",
            "Epoch 214/500\n",
            "2/2 [==============================] - 0s 23ms/step - loss: 0.5409 - accuracy: 0.6932 - val_loss: 0.5567 - val_accuracy: 0.6154\n",
            "Epoch 215/500\n",
            "2/2 [==============================] - 0s 23ms/step - loss: 0.5408 - accuracy: 0.6932 - val_loss: 0.5566 - val_accuracy: 0.6154\n",
            "Epoch 216/500\n",
            "2/2 [==============================] - 0s 22ms/step - loss: 0.5408 - accuracy: 0.6959 - val_loss: 0.5565 - val_accuracy: 0.6154\n",
            "Epoch 217/500\n",
            "2/2 [==============================] - 0s 25ms/step - loss: 0.5407 - accuracy: 0.6959 - val_loss: 0.5564 - val_accuracy: 0.6154\n",
            "Epoch 218/500\n",
            "2/2 [==============================] - 0s 36ms/step - loss: 0.5406 - accuracy: 0.7014 - val_loss: 0.5562 - val_accuracy: 0.6346\n",
            "Epoch 219/500\n",
            "2/2 [==============================] - 0s 25ms/step - loss: 0.5405 - accuracy: 0.7068 - val_loss: 0.5562 - val_accuracy: 0.6346\n",
            "Epoch 220/500\n",
            "2/2 [==============================] - 0s 24ms/step - loss: 0.5404 - accuracy: 0.7041 - val_loss: 0.5561 - val_accuracy: 0.6346\n",
            "Epoch 221/500\n",
            "2/2 [==============================] - 0s 25ms/step - loss: 0.5404 - accuracy: 0.7068 - val_loss: 0.5564 - val_accuracy: 0.6538\n",
            "Epoch 222/500\n",
            "2/2 [==============================] - 0s 24ms/step - loss: 0.5403 - accuracy: 0.7041 - val_loss: 0.5565 - val_accuracy: 0.6538\n",
            "Epoch 223/500\n",
            "2/2 [==============================] - 0s 28ms/step - loss: 0.5401 - accuracy: 0.7041 - val_loss: 0.5566 - val_accuracy: 0.6538\n",
            "Epoch 224/500\n",
            "2/2 [==============================] - 0s 38ms/step - loss: 0.5401 - accuracy: 0.7041 - val_loss: 0.5563 - val_accuracy: 0.6346\n",
            "Epoch 225/500\n",
            "2/2 [==============================] - 0s 27ms/step - loss: 0.5399 - accuracy: 0.7068 - val_loss: 0.5552 - val_accuracy: 0.6346\n",
            "Epoch 226/500\n",
            "2/2 [==============================] - 0s 23ms/step - loss: 0.5400 - accuracy: 0.7096 - val_loss: 0.5539 - val_accuracy: 0.6346\n",
            "Epoch 227/500\n",
            "2/2 [==============================] - 0s 23ms/step - loss: 0.5399 - accuracy: 0.7096 - val_loss: 0.5532 - val_accuracy: 0.6346\n",
            "Epoch 228/500\n",
            "2/2 [==============================] - 0s 26ms/step - loss: 0.5399 - accuracy: 0.7096 - val_loss: 0.5530 - val_accuracy: 0.6346\n",
            "Epoch 229/500\n",
            "2/2 [==============================] - 0s 25ms/step - loss: 0.5397 - accuracy: 0.7096 - val_loss: 0.5534 - val_accuracy: 0.6346\n",
            "Epoch 230/500\n",
            "2/2 [==============================] - 0s 25ms/step - loss: 0.5397 - accuracy: 0.7123 - val_loss: 0.5541 - val_accuracy: 0.6346\n",
            "Epoch 231/500\n",
            "2/2 [==============================] - 0s 22ms/step - loss: 0.5395 - accuracy: 0.7096 - val_loss: 0.5553 - val_accuracy: 0.6346\n",
            "Epoch 232/500\n",
            "2/2 [==============================] - 0s 24ms/step - loss: 0.5395 - accuracy: 0.7096 - val_loss: 0.5565 - val_accuracy: 0.6346\n",
            "Epoch 233/500\n",
            "2/2 [==============================] - 0s 23ms/step - loss: 0.5393 - accuracy: 0.7096 - val_loss: 0.5577 - val_accuracy: 0.6538\n",
            "Epoch 234/500\n",
            "2/2 [==============================] - 0s 28ms/step - loss: 0.5393 - accuracy: 0.7014 - val_loss: 0.5586 - val_accuracy: 0.6538\n",
            "Epoch 235/500\n",
            "2/2 [==============================] - 0s 22ms/step - loss: 0.5393 - accuracy: 0.7014 - val_loss: 0.5592 - val_accuracy: 0.6538\n",
            "Epoch 236/500\n",
            "2/2 [==============================] - 0s 28ms/step - loss: 0.5393 - accuracy: 0.7014 - val_loss: 0.5594 - val_accuracy: 0.6538\n",
            "Epoch 237/500\n",
            "2/2 [==============================] - 0s 35ms/step - loss: 0.5392 - accuracy: 0.7014 - val_loss: 0.5596 - val_accuracy: 0.6538\n",
            "Epoch 238/500\n",
            "2/2 [==============================] - 0s 21ms/step - loss: 0.5391 - accuracy: 0.7014 - val_loss: 0.5592 - val_accuracy: 0.6538\n",
            "Epoch 239/500\n",
            "2/2 [==============================] - 0s 31ms/step - loss: 0.5390 - accuracy: 0.7014 - val_loss: 0.5585 - val_accuracy: 0.6538\n",
            "Epoch 240/500\n",
            "2/2 [==============================] - 0s 26ms/step - loss: 0.5389 - accuracy: 0.6986 - val_loss: 0.5577 - val_accuracy: 0.6538\n",
            "Epoch 241/500\n",
            "2/2 [==============================] - 0s 26ms/step - loss: 0.5388 - accuracy: 0.6986 - val_loss: 0.5572 - val_accuracy: 0.6538\n",
            "Epoch 242/500\n",
            "2/2 [==============================] - 0s 27ms/step - loss: 0.5388 - accuracy: 0.7014 - val_loss: 0.5568 - val_accuracy: 0.6346\n",
            "Epoch 243/500\n",
            "2/2 [==============================] - 0s 32ms/step - loss: 0.5387 - accuracy: 0.7014 - val_loss: 0.5565 - val_accuracy: 0.6346\n",
            "Epoch 244/500\n",
            "2/2 [==============================] - 0s 25ms/step - loss: 0.5387 - accuracy: 0.7014 - val_loss: 0.5564 - val_accuracy: 0.6346\n",
            "Epoch 245/500\n",
            "2/2 [==============================] - 0s 23ms/step - loss: 0.5385 - accuracy: 0.7014 - val_loss: 0.5557 - val_accuracy: 0.6154\n",
            "Epoch 246/500\n",
            "2/2 [==============================] - 0s 23ms/step - loss: 0.5385 - accuracy: 0.7014 - val_loss: 0.5550 - val_accuracy: 0.6346\n",
            "Epoch 247/500\n",
            "2/2 [==============================] - 0s 25ms/step - loss: 0.5384 - accuracy: 0.7041 - val_loss: 0.5548 - val_accuracy: 0.6346\n",
            "Epoch 248/500\n",
            "2/2 [==============================] - 0s 22ms/step - loss: 0.5384 - accuracy: 0.7068 - val_loss: 0.5546 - val_accuracy: 0.6346\n",
            "Epoch 249/500\n",
            "2/2 [==============================] - 0s 30ms/step - loss: 0.5383 - accuracy: 0.7123 - val_loss: 0.5547 - val_accuracy: 0.6346\n",
            "Epoch 250/500\n",
            "2/2 [==============================] - 0s 23ms/step - loss: 0.5382 - accuracy: 0.7151 - val_loss: 0.5548 - val_accuracy: 0.6346\n",
            "Epoch 251/500\n",
            "2/2 [==============================] - 0s 22ms/step - loss: 0.5381 - accuracy: 0.7151 - val_loss: 0.5547 - val_accuracy: 0.6346\n",
            "Epoch 252/500\n",
            "2/2 [==============================] - 0s 26ms/step - loss: 0.5381 - accuracy: 0.7096 - val_loss: 0.5550 - val_accuracy: 0.6346\n",
            "Epoch 253/500\n",
            "2/2 [==============================] - 0s 22ms/step - loss: 0.5379 - accuracy: 0.7123 - val_loss: 0.5554 - val_accuracy: 0.6346\n",
            "Epoch 254/500\n",
            "2/2 [==============================] - 0s 22ms/step - loss: 0.5378 - accuracy: 0.7123 - val_loss: 0.5558 - val_accuracy: 0.6154\n",
            "Epoch 255/500\n",
            "2/2 [==============================] - 0s 21ms/step - loss: 0.5378 - accuracy: 0.7123 - val_loss: 0.5563 - val_accuracy: 0.6154\n",
            "Epoch 256/500\n",
            "2/2 [==============================] - 0s 22ms/step - loss: 0.5377 - accuracy: 0.7123 - val_loss: 0.5571 - val_accuracy: 0.6346\n",
            "Epoch 257/500\n",
            "2/2 [==============================] - 0s 22ms/step - loss: 0.5376 - accuracy: 0.7041 - val_loss: 0.5577 - val_accuracy: 0.6538\n",
            "Epoch 258/500\n",
            "2/2 [==============================] - 0s 24ms/step - loss: 0.5376 - accuracy: 0.7014 - val_loss: 0.5578 - val_accuracy: 0.6538\n",
            "Epoch 259/500\n",
            "2/2 [==============================] - 0s 27ms/step - loss: 0.5376 - accuracy: 0.7014 - val_loss: 0.5579 - val_accuracy: 0.6538\n",
            "Epoch 260/500\n",
            "2/2 [==============================] - 0s 23ms/step - loss: 0.5375 - accuracy: 0.6986 - val_loss: 0.5581 - val_accuracy: 0.6538\n",
            "Epoch 261/500\n",
            "2/2 [==============================] - 0s 25ms/step - loss: 0.5375 - accuracy: 0.6986 - val_loss: 0.5580 - val_accuracy: 0.6538\n",
            "Epoch 262/500\n",
            "2/2 [==============================] - 0s 24ms/step - loss: 0.5374 - accuracy: 0.6986 - val_loss: 0.5579 - val_accuracy: 0.6538\n",
            "Epoch 263/500\n",
            "2/2 [==============================] - 0s 25ms/step - loss: 0.5373 - accuracy: 0.7014 - val_loss: 0.5577 - val_accuracy: 0.6538\n",
            "Epoch 264/500\n",
            "2/2 [==============================] - 0s 21ms/step - loss: 0.5372 - accuracy: 0.7014 - val_loss: 0.5571 - val_accuracy: 0.6538\n",
            "Epoch 265/500\n",
            "2/2 [==============================] - 0s 24ms/step - loss: 0.5371 - accuracy: 0.7068 - val_loss: 0.5566 - val_accuracy: 0.6538\n",
            "Epoch 266/500\n",
            "2/2 [==============================] - 0s 37ms/step - loss: 0.5370 - accuracy: 0.7041 - val_loss: 0.5560 - val_accuracy: 0.6538\n",
            "Epoch 267/500\n",
            "2/2 [==============================] - 0s 21ms/step - loss: 0.5369 - accuracy: 0.7068 - val_loss: 0.5554 - val_accuracy: 0.6346\n",
            "Epoch 268/500\n",
            "2/2 [==============================] - 0s 30ms/step - loss: 0.5370 - accuracy: 0.7068 - val_loss: 0.5547 - val_accuracy: 0.6346\n",
            "Epoch 269/500\n",
            "2/2 [==============================] - 0s 27ms/step - loss: 0.5368 - accuracy: 0.7096 - val_loss: 0.5548 - val_accuracy: 0.6346\n",
            "Epoch 270/500\n",
            "2/2 [==============================] - 0s 27ms/step - loss: 0.5368 - accuracy: 0.7096 - val_loss: 0.5553 - val_accuracy: 0.6154\n",
            "Epoch 271/500\n",
            "2/2 [==============================] - 0s 30ms/step - loss: 0.5367 - accuracy: 0.7096 - val_loss: 0.5558 - val_accuracy: 0.6154\n",
            "Epoch 272/500\n",
            "2/2 [==============================] - 0s 21ms/step - loss: 0.5366 - accuracy: 0.7123 - val_loss: 0.5564 - val_accuracy: 0.6154\n",
            "Epoch 273/500\n",
            "2/2 [==============================] - 0s 22ms/step - loss: 0.5367 - accuracy: 0.7041 - val_loss: 0.5570 - val_accuracy: 0.6154\n",
            "Epoch 274/500\n",
            "2/2 [==============================] - 0s 27ms/step - loss: 0.5365 - accuracy: 0.7041 - val_loss: 0.5571 - val_accuracy: 0.6154\n",
            "Epoch 275/500\n",
            "2/2 [==============================] - 0s 21ms/step - loss: 0.5365 - accuracy: 0.7014 - val_loss: 0.5574 - val_accuracy: 0.6154\n",
            "Epoch 276/500\n",
            "2/2 [==============================] - 0s 30ms/step - loss: 0.5365 - accuracy: 0.7014 - val_loss: 0.5578 - val_accuracy: 0.6346\n",
            "Epoch 277/500\n",
            "2/2 [==============================] - 0s 26ms/step - loss: 0.5363 - accuracy: 0.7041 - val_loss: 0.5578 - val_accuracy: 0.6346\n",
            "Epoch 278/500\n",
            "2/2 [==============================] - 0s 22ms/step - loss: 0.5362 - accuracy: 0.7041 - val_loss: 0.5578 - val_accuracy: 0.6154\n",
            "Epoch 279/500\n",
            "2/2 [==============================] - 0s 21ms/step - loss: 0.5361 - accuracy: 0.7041 - val_loss: 0.5576 - val_accuracy: 0.6154\n",
            "Epoch 280/500\n",
            "2/2 [==============================] - 0s 29ms/step - loss: 0.5361 - accuracy: 0.7096 - val_loss: 0.5572 - val_accuracy: 0.6154\n",
            "Epoch 281/500\n",
            "2/2 [==============================] - 0s 29ms/step - loss: 0.5360 - accuracy: 0.7096 - val_loss: 0.5569 - val_accuracy: 0.6154\n",
            "Epoch 282/500\n",
            "2/2 [==============================] - 0s 27ms/step - loss: 0.5359 - accuracy: 0.7151 - val_loss: 0.5564 - val_accuracy: 0.6154\n",
            "Epoch 283/500\n",
            "2/2 [==============================] - 0s 27ms/step - loss: 0.5358 - accuracy: 0.7151 - val_loss: 0.5561 - val_accuracy: 0.6154\n",
            "Epoch 284/500\n",
            "2/2 [==============================] - 0s 26ms/step - loss: 0.5357 - accuracy: 0.7123 - val_loss: 0.5556 - val_accuracy: 0.6154\n",
            "Epoch 285/500\n",
            "2/2 [==============================] - 0s 26ms/step - loss: 0.5357 - accuracy: 0.7123 - val_loss: 0.5553 - val_accuracy: 0.6154\n",
            "Epoch 286/500\n",
            "2/2 [==============================] - 0s 23ms/step - loss: 0.5356 - accuracy: 0.7123 - val_loss: 0.5554 - val_accuracy: 0.6154\n",
            "Epoch 287/500\n",
            "2/2 [==============================] - 0s 29ms/step - loss: 0.5355 - accuracy: 0.7151 - val_loss: 0.5557 - val_accuracy: 0.6154\n",
            "Epoch 288/500\n",
            "2/2 [==============================] - 0s 23ms/step - loss: 0.5354 - accuracy: 0.7151 - val_loss: 0.5558 - val_accuracy: 0.6154\n",
            "Restoring model weights from the end of the best epoch.\n",
            "Epoch 00288: early stopping\n"
          ],
          "name": "stdout"
        },
        {
          "output_type": "execute_result",
          "data": {
            "text/plain": [
              "<tensorflow.python.keras.callbacks.History at 0x7f0e545447d0>"
            ]
          },
          "metadata": {
            "tags": []
          },
          "execution_count": 461
        }
      ]
    },
    {
      "cell_type": "code",
      "metadata": {
        "colab": {
          "base_uri": "https://localhost:8080/"
        },
        "id": "VLTNQymJeAcS",
        "outputId": "6099a8da-7bb1-490c-c973-aa4039ebe081"
      },
      "source": [
        "model.evaluate(x=[x_tst,fm_x_tst],y=y_tst)"
      ],
      "execution_count": null,
      "outputs": [
        {
          "output_type": "stream",
          "text": [
            "2/2 [==============================] - 0s 6ms/step - loss: 0.5903 - accuracy: 0.6667\n"
          ],
          "name": "stdout"
        },
        {
          "output_type": "execute_result",
          "data": {
            "text/plain": [
              "[0.5902595520019531, 0.6666666865348816]"
            ]
          },
          "metadata": {
            "tags": []
          },
          "execution_count": 462
        }
      ]
    },
    {
      "cell_type": "code",
      "metadata": {
        "colab": {
          "base_uri": "https://localhost:8080/"
        },
        "id": "fkYCOmtPeOEC",
        "outputId": "37c24ea5-076f-4ffd-bfe3-bf6d09889d6b"
      },
      "source": [
        "model.evaluate(x=[x_val,fm_x_val],y=y_val)"
      ],
      "execution_count": null,
      "outputs": [
        {
          "output_type": "stream",
          "text": [
            "2/2 [==============================] - 0s 5ms/step - loss: 0.5530 - accuracy: 0.6346\n"
          ],
          "name": "stdout"
        },
        {
          "output_type": "execute_result",
          "data": {
            "text/plain": [
              "[0.5529981255531311, 0.6346153616905212]"
            ]
          },
          "metadata": {
            "tags": []
          },
          "execution_count": 463
        }
      ]
    },
    {
      "cell_type": "code",
      "metadata": {
        "colab": {
          "base_uri": "https://localhost:8080/"
        },
        "id": "t1L-K0a-eT1b",
        "outputId": "73140ebd-379a-425c-bc3e-ebf11ae95468"
      },
      "source": [
        "model.evaluate(x=[x_trn,fm_x_trn],y=y_trn)"
      ],
      "execution_count": null,
      "outputs": [
        {
          "output_type": "stream",
          "text": [
            "12/12 [==============================] - 0s 1ms/step - loss: 0.5398 - accuracy: 0.7096\n"
          ],
          "name": "stdout"
        },
        {
          "output_type": "execute_result",
          "data": {
            "text/plain": [
              "[0.5397560596466064, 0.7095890641212463]"
            ]
          },
          "metadata": {
            "tags": []
          },
          "execution_count": 464
        }
      ]
    },
    {
      "cell_type": "code",
      "metadata": {
        "id": "JGtRSNkbuceS"
      },
      "source": [
        "model.save(\"model.h5\")"
      ],
      "execution_count": null,
      "outputs": []
    },
    {
      "cell_type": "code",
      "metadata": {
        "colab": {
          "base_uri": "https://localhost:8080/"
        },
        "id": "V6wtopZqeZnt",
        "outputId": "97c2c8a1-087e-45f2-8641-0fbadaa412f8"
      },
      "source": [
        "spb=(float(input(\"systolic: \"))-mean_sbp)/std_sbp #120\n",
        "height=float(input(\"height: \")) #22.13\n",
        "weight=float(input(\"weight: \")) \n",
        "age=(int(input(\"age: \"))-mean_age)/std_age #22\n",
        "fam=bool(input(\"Are there any relative in your family has cardiovascular?: (0 for not) (1 for yes) \"))\n",
        "bmi=((weight/(height*0.01)**2)-mean_bmi)/std_bmi\n",
        "x=[np.asarray([[spb,bmi,age]]),to_categorical([fam])]\n",
        "print (\"your risk for having cardiovascular disease is :\"+str(model.predict(x)))"
      ],
      "execution_count": null,
      "outputs": [
        {
          "output_type": "stream",
          "text": [
            "systolic: 120\n",
            "height: 180\n",
            "weight: 200\n",
            "age: 20\n",
            "Are there any relative in your family has cardiovascular?: (0 for not) (1 for yes) 1\n",
            "your risk for having cardiovascular disease is :[[0.6624554]]\n"
          ],
          "name": "stdout"
        }
      ]
    },
    {
      "cell_type": "code",
      "metadata": {
        "id": "bWw5ImOoxQlN"
      },
      "source": [
        ""
      ],
      "execution_count": null,
      "outputs": []
    }
  ]
}